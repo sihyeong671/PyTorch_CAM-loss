{
 "cells": [
  {
   "cell_type": "code",
   "execution_count": 1,
   "metadata": {},
   "outputs": [],
   "source": [
    "import numpy as np\n",
    "import matplotlib.pyplot as plt\n",
    "import torch\n",
    "import torch.nn as nn\n",
    "import torch.optim as optim\n",
    "import torch.nn.functional as F\n",
    "import seaborn as sns\n",
    "from torchvision import transforms, datasets\n",
    "from torch.utils.data import DataLoader\n",
    "from tqdm import tqdm"
   ]
  },
  {
   "cell_type": "code",
   "execution_count": 2,
   "metadata": {},
   "outputs": [
    {
     "data": {
      "text/plain": [
       "device(type='cuda')"
      ]
     },
     "execution_count": 2,
     "metadata": {},
     "output_type": "execute_result"
    }
   ],
   "source": [
    "device = torch.device('cuda') if torch.cuda.is_available() else torch.device('cpu')\n",
    "device"
   ]
  },
  {
   "cell_type": "code",
   "execution_count": 3,
   "metadata": {},
   "outputs": [
    {
     "name": "stdout",
     "output_type": "stream",
     "text": [
      "Downloading http://yann.lecun.com/exdb/mnist/train-images-idx3-ubyte.gz\n",
      "Downloading http://yann.lecun.com/exdb/mnist/train-images-idx3-ubyte.gz to ./mnist/MNIST/raw/train-images-idx3-ubyte.gz\n"
     ]
    },
    {
     "data": {
      "application/vnd.jupyter.widget-view+json": {
       "model_id": "992b3ce01bc3402ca20d7fa2230364f8",
       "version_major": 2,
       "version_minor": 0
      },
      "text/plain": [
       "  0%|          | 0/9912422 [00:00<?, ?it/s]"
      ]
     },
     "metadata": {},
     "output_type": "display_data"
    },
    {
     "name": "stdout",
     "output_type": "stream",
     "text": [
      "Extracting ./mnist/MNIST/raw/train-images-idx3-ubyte.gz to ./mnist/MNIST/raw\n",
      "\n",
      "Downloading http://yann.lecun.com/exdb/mnist/train-labels-idx1-ubyte.gz\n",
      "Downloading http://yann.lecun.com/exdb/mnist/train-labels-idx1-ubyte.gz to ./mnist/MNIST/raw/train-labels-idx1-ubyte.gz\n"
     ]
    },
    {
     "data": {
      "application/vnd.jupyter.widget-view+json": {
       "model_id": "b44dc8778f104d7b98195eb5cdca4c8c",
       "version_major": 2,
       "version_minor": 0
      },
      "text/plain": [
       "  0%|          | 0/28881 [00:00<?, ?it/s]"
      ]
     },
     "metadata": {},
     "output_type": "display_data"
    },
    {
     "name": "stdout",
     "output_type": "stream",
     "text": [
      "Extracting ./mnist/MNIST/raw/train-labels-idx1-ubyte.gz to ./mnist/MNIST/raw\n",
      "\n",
      "Downloading http://yann.lecun.com/exdb/mnist/t10k-images-idx3-ubyte.gz\n",
      "Downloading http://yann.lecun.com/exdb/mnist/t10k-images-idx3-ubyte.gz to ./mnist/MNIST/raw/t10k-images-idx3-ubyte.gz\n"
     ]
    },
    {
     "data": {
      "application/vnd.jupyter.widget-view+json": {
       "model_id": "ed897d0012324e538ed49d5c771b02dd",
       "version_major": 2,
       "version_minor": 0
      },
      "text/plain": [
       "  0%|          | 0/1648877 [00:00<?, ?it/s]"
      ]
     },
     "metadata": {},
     "output_type": "display_data"
    },
    {
     "name": "stdout",
     "output_type": "stream",
     "text": [
      "Extracting ./mnist/MNIST/raw/t10k-images-idx3-ubyte.gz to ./mnist/MNIST/raw\n",
      "\n",
      "Downloading http://yann.lecun.com/exdb/mnist/t10k-labels-idx1-ubyte.gz\n",
      "Downloading http://yann.lecun.com/exdb/mnist/t10k-labels-idx1-ubyte.gz to ./mnist/MNIST/raw/t10k-labels-idx1-ubyte.gz\n"
     ]
    },
    {
     "data": {
      "application/vnd.jupyter.widget-view+json": {
       "model_id": "038ae5b626c042d1aaa9e4c9521869dd",
       "version_major": 2,
       "version_minor": 0
      },
      "text/plain": [
       "  0%|          | 0/4542 [00:00<?, ?it/s]"
      ]
     },
     "metadata": {},
     "output_type": "display_data"
    },
    {
     "name": "stdout",
     "output_type": "stream",
     "text": [
      "Extracting ./mnist/MNIST/raw/t10k-labels-idx1-ubyte.gz to ./mnist/MNIST/raw\n",
      "\n"
     ]
    }
   ],
   "source": [
    "mnist_train = datasets.MNIST(root='./mnist/',train=True,transform=transforms.ToTensor(),download=True)\n",
    "mnist_test = datasets.MNIST(root='./mnist/',train=False,transform=transforms.ToTensor(),download=True)"
   ]
  },
  {
   "cell_type": "code",
   "execution_count": 4,
   "metadata": {},
   "outputs": [],
   "source": [
    "BATCH_SIZE = 256\n",
    "train_iter = DataLoader(mnist_train,batch_size=BATCH_SIZE,shuffle=True,num_workers=1)\n",
    "test_iter = DataLoader(mnist_test,batch_size=BATCH_SIZE,shuffle=True,num_workers=1)"
   ]
  },
  {
   "cell_type": "code",
   "execution_count": 5,
   "metadata": {},
   "outputs": [],
   "source": [
    "class TestModel(nn.Module):\n",
    "    def __init__(self):\n",
    "        super().__init__()\n",
    "        self.conv = nn.Sequential(\n",
    "            nn.Conv2d(1, 128, 3, 1, 1),\n",
    "            nn.BatchNorm2d(128),\n",
    "            nn.ReLU(),\n",
    "            nn.Conv2d(128, 256, 3, 1, 1),\n",
    "        )\n",
    "        self.gap = nn.AdaptiveMaxPool2d((1, 1))\n",
    "        self.fc = nn.Linear(256, 10)\n",
    "\n",
    "    \n",
    "    def forward(self, x):\n",
    "        feature_map = self.conv(x)\n",
    "        x = self.gap(feature_map)\n",
    "        x = torch.flatten(x, 1)\n",
    "        x = self.fc(x)\n",
    "        return x, feature_map"
   ]
  },
  {
   "cell_type": "code",
   "execution_count": 6,
   "metadata": {},
   "outputs": [],
   "source": [
    "def func_eval(model,data_iter,device):\n",
    "    with torch.no_grad():\n",
    "        model.eval()\n",
    "        n_total,n_correct = 0,0\n",
    "        for batch_in,batch_out in data_iter:\n",
    "            x_trgt = batch_in.to(device)\n",
    "            y_trgt = batch_out.to(device)\n",
    "            model_pred, _ = model(x_trgt)\n",
    "            _,y_pred = torch.max(model_pred.data,1)\n",
    "            n_correct += (y_pred==y_trgt).sum().item()\n",
    "            n_total += x_trgt.size(0)\n",
    "        val_accr = (n_correct/n_total)\n",
    "        model.train()\n",
    "    return val_accr"
   ]
  },
  {
   "cell_type": "code",
   "execution_count": 7,
   "metadata": {},
   "outputs": [],
   "source": [
    "def madeCAM(feature_map, labels, weight):\n",
    "    # B : label\n",
    "    labels = labels.view(labels.size(0), -1)\n",
    "    W = torch.stack([weight[:,labels[i]] for i in range(len(labels))]) # B C 1\n",
    "    W = W.unsqueeze(dim=-1) # B C 1 1\n",
    "    output = torch.mul(feature_map, W)\n",
    "    output = torch.sum(output, dim=1)\n",
    "\n",
    "    return output"
   ]
  },
  {
   "cell_type": "code",
   "execution_count": 8,
   "metadata": {},
   "outputs": [],
   "source": [
    "def minMaxNormalize(inputs):\n",
    "    # B H W\n",
    "    _min, _ = torch.min(inputs, dim=1)\n",
    "    _max, _ = torch.max(inputs, dim=1)\n",
    "\n",
    "    _max = torch.unsqueeze(_max, dim=-1)\n",
    "    _min = torch.unsqueeze(_min, dim=-1)\n",
    "\n",
    "    numerator = torch.sub(inputs, _min)\n",
    "    denominator = torch.sub(_max, _min)\n",
    "    output = torch.div(numerator, denominator)\n",
    "\n",
    "    return output"
   ]
  },
  {
   "cell_type": "code",
   "execution_count": 9,
   "metadata": {},
   "outputs": [
    {
     "name": "stderr",
     "output_type": "stream",
     "text": [
      "100%|██████████| 235/235 [00:08<00:00, 27.88it/s]\n",
      "100%|██████████| 235/235 [00:08<00:00, 28.87it/s]\n"
     ]
    },
    {
     "name": "stdout",
     "output_type": "stream",
     "text": [
      "epoch: 2 CAM_loss:0.137(L_cam: 0.845, L_ce: 0.137) train_accr: 96.548% test_accr:96.250%.\n"
     ]
    },
    {
     "name": "stderr",
     "output_type": "stream",
     "text": [
      "100%|██████████| 235/235 [00:08<00:00, 28.61it/s]\n",
      "100%|██████████| 235/235 [00:08<00:00, 28.50it/s]\n"
     ]
    },
    {
     "name": "stdout",
     "output_type": "stream",
     "text": [
      "epoch: 4 CAM_loss:0.084(L_cam: 0.773, L_ce: 0.084) train_accr: 97.912% test_accr:96.980%.\n"
     ]
    },
    {
     "name": "stderr",
     "output_type": "stream",
     "text": [
      "100%|██████████| 235/235 [00:08<00:00, 28.20it/s]\n",
      "100%|██████████| 235/235 [00:08<00:00, 28.81it/s]\n"
     ]
    },
    {
     "name": "stdout",
     "output_type": "stream",
     "text": [
      "epoch: 6 CAM_loss:0.061(L_cam: 0.743, L_ce: 0.061) train_accr: 98.458% test_accr:97.060%.\n"
     ]
    },
    {
     "name": "stderr",
     "output_type": "stream",
     "text": [
      "100%|██████████| 235/235 [00:08<00:00, 26.16it/s]\n",
      "100%|██████████| 235/235 [00:08<00:00, 28.68it/s]\n"
     ]
    },
    {
     "name": "stdout",
     "output_type": "stream",
     "text": [
      "epoch: 8 CAM_loss:0.042(L_cam: 0.742, L_ce: 0.042) train_accr: 98.410% test_accr:97.200%.\n"
     ]
    },
    {
     "name": "stderr",
     "output_type": "stream",
     "text": [
      "100%|██████████| 235/235 [00:08<00:00, 28.83it/s]\n",
      "100%|██████████| 235/235 [00:08<00:00, 28.03it/s]\n"
     ]
    },
    {
     "name": "stdout",
     "output_type": "stream",
     "text": [
      "epoch: 10 CAM_loss:0.711(L_cam: 0.217, L_ce: 0.060) train_accr: 98.688% test_accr:97.400%.\n"
     ]
    },
    {
     "name": "stderr",
     "output_type": "stream",
     "text": [
      "100%|██████████| 235/235 [00:08<00:00, 28.74it/s]\n",
      "100%|██████████| 235/235 [00:08<00:00, 28.79it/s]\n"
     ]
    },
    {
     "name": "stdout",
     "output_type": "stream",
     "text": [
      "epoch: 12 CAM_loss:0.424(L_cam: 0.128, L_ce: 0.040) train_accr: 98.593% test_accr:96.990%.\n"
     ]
    },
    {
     "name": "stderr",
     "output_type": "stream",
     "text": [
      "100%|██████████| 235/235 [00:08<00:00, 28.98it/s]\n",
      "100%|██████████| 235/235 [00:08<00:00, 28.20it/s]\n"
     ]
    },
    {
     "name": "stdout",
     "output_type": "stream",
     "text": [
      "epoch: 14 CAM_loss:0.385(L_cam: 0.116, L_ce: 0.036) train_accr: 99.062% test_accr:97.000%.\n"
     ]
    },
    {
     "name": "stderr",
     "output_type": "stream",
     "text": [
      "100%|██████████| 235/235 [00:08<00:00, 28.16it/s]\n",
      "100%|██████████| 235/235 [00:08<00:00, 28.00it/s]\n"
     ]
    },
    {
     "name": "stdout",
     "output_type": "stream",
     "text": [
      "epoch: 16 CAM_loss:0.375(L_cam: 0.115, L_ce: 0.030) train_accr: 97.778% test_accr:96.080%.\n"
     ]
    },
    {
     "name": "stderr",
     "output_type": "stream",
     "text": [
      "100%|██████████| 235/235 [00:08<00:00, 28.69it/s]\n",
      "100%|██████████| 235/235 [00:08<00:00, 28.61it/s]\n"
     ]
    },
    {
     "name": "stdout",
     "output_type": "stream",
     "text": [
      "epoch: 18 CAM_loss:0.377(L_cam: 0.115, L_ce: 0.031) train_accr: 98.205% test_accr:96.510%.\n"
     ]
    },
    {
     "name": "stderr",
     "output_type": "stream",
     "text": [
      "100%|██████████| 235/235 [00:08<00:00, 27.26it/s]\n",
      "100%|██████████| 235/235 [00:08<00:00, 28.15it/s]\n"
     ]
    },
    {
     "name": "stdout",
     "output_type": "stream",
     "text": [
      "epoch: 20 CAM_loss:0.501(L_cam: 0.146, L_ce: 0.063) train_accr: 98.983% test_accr:96.920%.\n",
      "Done\n"
     ]
    }
   ],
   "source": [
    "torch.autograd.set_detect_anomaly(True)\n",
    "model = TestModel().to(device)\n",
    "# optim 두개 사용\n",
    "optm_theta = optim.Adam(model.conv.parameters(),lr=1e-3)\n",
    "optm_w = optim.Adam(model.fc.parameters(), lr=1e-3)\n",
    "l_cam = nn.L1Loss()\n",
    "l_ce = nn.CrossEntropyLoss()\n",
    "model.train()\n",
    "EPOCHS = 20\n",
    "alpha = 0\n",
    "for epoch in range(1, EPOCHS+1):\n",
    "    loss_sum = 0\n",
    "    L_cam_sum = 0\n",
    "    L_ce_sum = 0\n",
    "    for batch_in, batch_out in tqdm(train_iter):\n",
    "        inputs = batch_in.to(device)\n",
    "        labels = batch_out.to(device)\n",
    "        y_pred, feature_map = model.forward(inputs)\n",
    "\n",
    "        if epoch >= 10:\n",
    "            alpha = 3\n",
    "        \n",
    "        # CAAM, CAM\n",
    "        CAAM = torch.sum(feature_map, dim=1) # B H W\n",
    "        CAM = madeCAM(feature_map, labels, model.fc.weight.data.T) # B H W\n",
    "\n",
    "        CAAM_normalize = minMaxNormalize(CAAM)\n",
    "        CAM_noramlize = minMaxNormalize(CAM)\n",
    "        \n",
    "        L_cam_loss = l_cam(CAAM_normalize, CAM_noramlize) \n",
    "        L_ce_loss = l_ce(y_pred, labels)\n",
    "        CAM_loss = alpha*L_cam_loss + L_ce_loss\n",
    "\n",
    "        \n",
    "        optm_theta.zero_grad()\n",
    "        optm_w.zero_grad()\n",
    "        CAM_loss.backward()\n",
    "        optm_theta.step()\n",
    "        optm_w.step()\n",
    "\n",
    "        loss_sum += CAM_loss\n",
    "        L_cam_sum += L_cam_loss\n",
    "        L_ce_sum += L_ce_loss\n",
    "    loss_avg = loss_sum/len(train_iter)\n",
    "    cam_avg = L_cam_sum/len(train_iter)\n",
    "    ce_avg = L_ce_sum/len(train_iter)\n",
    "\n",
    "\n",
    "    if (epoch%2) == 0:\n",
    "        train_accr = func_eval(model,train_iter,device)\n",
    "        test_accr = func_eval(model,test_iter,device)\n",
    "        print (f\"epoch: {epoch} CAM_loss:{loss_avg:.3f}(L_cam: {cam_avg:.3f}, L_ce: {ce_avg:.3f}) train_accr: {train_accr:.3%} test_accr:{test_accr:.3%}.\")\n",
    "print (\"Done\")        "
   ]
  },
  {
   "cell_type": "code",
   "execution_count": 17,
   "metadata": {},
   "outputs": [
    {
     "data": {
      "image/png": "[encoded data removed]",
      "text/plain": [
       "<Figure size 1000x1000 with 25 Axes>"
      ]
     },
     "metadata": {},
     "output_type": "display_data"
    },
    {
     "name": "stdout",
     "output_type": "stream",
     "text": [
      "Done\n"
     ]
    }
   ],
   "source": [
    "n_sample = 25\n",
    "sample_indices = np.random.choice(len(mnist_test.targets), n_sample, replace=False)\n",
    "test_x = mnist_test.data[sample_indices]\n",
    "test_y = mnist_test.targets[sample_indices]\n",
    "test_x = torch.unsqueeze(test_x, dim=1)\n",
    "with torch.no_grad():\n",
    "    y_pred, _ = model.forward(test_x.type(torch.float).to(device)/255.)\n",
    "y_pred = y_pred.argmax(axis=1)\n",
    "plt.figure(figsize=(10,10))\n",
    "for idx in range(n_sample):\n",
    "    plt.subplot(5, 5, idx+1)\n",
    "    plt.imshow(test_x[idx].squeeze(), cmap='gray')\n",
    "    plt.axis('off')\n",
    "    plt.title(\"Pred:%d, Label:%d\"%(y_pred[idx],test_y[idx]))\n",
    "plt.show()    \n",
    "print (\"Done\")"
   ]
  },
  {
   "cell_type": "code",
   "execution_count": null,
   "metadata": {},
   "outputs": [],
   "source": []
  }
 ],
 "metadata": {
  "kernelspec": {
   "display_name": "Python 3.8.5 ('project-vt2EwfcF': pipenv)",
   "language": "python",
   "name": "python3"
  },
  "language_info": {
   "codemirror_mode": {
    "name": "ipython",
    "version": 3
   },
   "file_extension": ".py",
   "mimetype": "text/x-python",
   "name": "python",
   "nbconvert_exporter": "python",
   "pygments_lexer": "ipython3",
   "version": "3.8.5"
  },
  "orig_nbformat": 4,
  "vscode": {
   "interpreter": {
    "hash": "71bdc61298bf80c1e71c8e2bae6f624e81956b239b32c5dbaee30c7e1f8f8340"
   }
  }
 },
 "nbformat": 4,
 "nbformat_minor": 2
}
