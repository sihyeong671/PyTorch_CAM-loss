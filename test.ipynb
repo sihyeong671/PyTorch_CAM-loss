{
 "cells": [
  {
   "cell_type": "code",
   "execution_count": 1,
   "metadata": {},
   "outputs": [],
   "source": [
    "import numpy as np\n",
    "import matplotlib.pyplot as plt\n",
    "import random\n",
    "import os\n",
    "import torch\n",
    "import torch.nn as nn\n",
    "import torch.optim as optim\n",
    "import torch.nn.functional as F\n",
    "import seaborn as sns\n",
    "from torchvision import transforms, datasets\n",
    "from torch.utils.data import DataLoader\n",
    "from tqdm import tqdm\n",
    "from torchvision import models\n",
    "from sklearn.metrics import f1_score"
   ]
  },
  {
   "cell_type": "code",
   "execution_count": 2,
   "metadata": {},
   "outputs": [],
   "source": [
    "seed = 1234\n",
    "random.seed(seed)\n",
    "os.environ['PYTHONHASHSEED'] = str(seed)\n",
    "np.random.seed(seed)\n",
    "torch.manual_seed(seed)\n",
    "torch.cuda.manual_seed(seed)\n",
    "torch.backends.cudnn.deterministic = True\n",
    "torch.backends.cudnn.benchmark = True"
   ]
  },
  {
   "cell_type": "code",
   "execution_count": 3,
   "metadata": {},
   "outputs": [
    {
     "data": {
      "text/plain": [
       "device(type='cuda')"
      ]
     },
     "execution_count": 3,
     "metadata": {},
     "output_type": "execute_result"
    }
   ],
   "source": [
    "device = torch.device('cuda') if torch.cuda.is_available() else torch.device('cpu')\n",
    "device"
   ]
  },
  {
   "cell_type": "code",
   "execution_count": 4,
   "metadata": {},
   "outputs": [],
   "source": [
    "transform = transforms.Compose([\n",
    "    # transforms.Resize((64, 64)),\n",
    "    transforms.ToTensor(),\n",
    "])"
   ]
  },
  {
   "cell_type": "code",
   "execution_count": 5,
   "metadata": {},
   "outputs": [],
   "source": [
    "mnist_train = datasets.MNIST(root='./mnist/',train=True,transform=transform,download=True)\n",
    "mnist_test = datasets.MNIST(root='./mnist/',train=False,transform=transform,download=True)"
   ]
  },
  {
   "cell_type": "code",
   "execution_count": 6,
   "metadata": {},
   "outputs": [],
   "source": [
    "BATCH_SIZE = 256\n",
    "train_iter = DataLoader(mnist_train,batch_size=BATCH_SIZE,shuffle=True,num_workers=2)\n",
    "test_iter = DataLoader(mnist_test,batch_size=BATCH_SIZE,shuffle=True,num_workers=2)"
   ]
  },
  {
   "cell_type": "code",
   "execution_count": 7,
   "metadata": {},
   "outputs": [],
   "source": [
    "class ResnetBackBone(nn.Module):\n",
    "    def __init__(self, num_classes):\n",
    "        super().__init__()\n",
    "        self.feature_map = None\n",
    "\n",
    "        self.backbone = models.resnet18(weights='DEFAULT')\n",
    "        self.backbone.conv1 = nn.Conv2d(1, 64, kernel_size=(7, 7), stride=(2, 2), padding=(3, 3), bias=False)\n",
    "        self.backbone.fc = nn.Linear(512, num_classes)\n",
    "\n",
    "        self.backbone.layer4.register_forward_hook(self.getFeatureMap)\n",
    "\n",
    "    def getFeatureMap(self, module, inputs, outputs):\n",
    "        self.feature_map = outputs\n",
    "\n",
    "    def forward(self, x):\n",
    "        x = self.backbone(x)\n",
    "        return x, self.feature_map"
   ]
  },
  {
   "cell_type": "code",
   "execution_count": 8,
   "metadata": {},
   "outputs": [],
   "source": [
    "class TestModel(nn.Module):\n",
    "    def __init__(self, num_classes):\n",
    "        super().__init__()\n",
    "        self.conv = nn.Sequential(\n",
    "            nn.Conv2d(1, 64, 3, 1, 1),\n",
    "            nn.BatchNorm2d(64),\n",
    "            nn.ReLU(True),\n",
    "            nn.Conv2d(64, 128, 3, 1, 1),\n",
    "            nn.BatchNorm2d(128),\n",
    "            nn.ReLU(True),\n",
    "            nn.Conv2d(128, 256, 3, 1, 1),\n",
    "        )\n",
    "        self.gap = nn.AdaptiveMaxPool2d((1, 1))\n",
    "        self.fc = nn.Linear(256, num_classes)\n",
    "        \n",
    "\n",
    "    \n",
    "    def forward(self, x):\n",
    "        feature_map = self.conv(x)\n",
    "        x = self.gap(feature_map)\n",
    "        x = torch.flatten(x, 1)\n",
    "        x = self.fc(x)\n",
    "        return x, feature_map"
   ]
  },
  {
   "cell_type": "code",
   "execution_count": 9,
   "metadata": {},
   "outputs": [],
   "source": [
    "def func_eval(model,data_iter,device):\n",
    "    with torch.no_grad():\n",
    "        model.eval()\n",
    "        n_total,n_correct,f1 = 0,0,0\n",
    "        for batch_in,batch_out in data_iter:\n",
    "            x_trgt = batch_in.to(device)\n",
    "            y_trgt = batch_out.to(device)\n",
    "            model_pred, _ = model(x_trgt)\n",
    "            _,y_pred = torch.max(model_pred.data,1)\n",
    "            n_correct += (y_pred==y_trgt).sum().item()\n",
    "            n_total += x_trgt.size(0)\n",
    "            f1 += f1_score(y_trgt.detach().cpu().numpy(), y_pred.detach().cpu().numpy(), average='macro')\n",
    "        val_accr = (n_correct/n_total)\n",
    "        f1 = f1/len(data_iter)\n",
    "        model.train()\n",
    "    return val_accr, f1"
   ]
  },
  {
   "cell_type": "code",
   "execution_count": 10,
   "metadata": {},
   "outputs": [],
   "source": [
    "def madeCAM(feature_map, labels, weight):\n",
    "    # B : label\n",
    "    labels = labels.view(labels.size(0), -1)\n",
    "    W = torch.stack([weight[:,labels[i]] for i in range(len(labels))]) # B C 1\n",
    "    W = W.unsqueeze(dim=-1) # B C 1 1\n",
    "\n",
    "    output = torch.mul(feature_map, W)\n",
    "    output = torch.sum(output, dim=1)\n",
    "\n",
    "    return output"
   ]
  },
  {
   "cell_type": "code",
   "execution_count": 11,
   "metadata": {},
   "outputs": [],
   "source": [
    "def minMaxNormalize(inputs):\n",
    "    # B H W\n",
    "    _min, _ = torch.min(inputs, dim=1)\n",
    "    _max, _ = torch.max(inputs, dim=1)\n",
    "\n",
    "    _max = torch.unsqueeze(_max, dim=-1)\n",
    "    _min = torch.unsqueeze(_min, dim=-1)\n",
    "\n",
    "    numerator = torch.sub(inputs, _min)\n",
    "    denominator = torch.sub(_max, _min)\n",
    "    output = torch.div(numerator, denominator)\n",
    "\n",
    "    return output"
   ]
  },
  {
   "cell_type": "code",
   "execution_count": 12,
   "metadata": {},
   "outputs": [
    {
     "name": "stderr",
     "output_type": "stream",
     "text": [
      "100%|██████████| 235/235 [00:10<00:00, 23.14it/s]\n",
      "100%|██████████| 235/235 [00:09<00:00, 24.92it/s]\n"
     ]
    },
    {
     "name": "stdout",
     "output_type": "stream",
     "text": [
      "epoch: 2 CAM_loss:0.078(L_cam: 0.707, L_ce: 0.078) train_accr: 98.537% test_accr:97.970%, train_f1: 0.985 test_f1: 0.980\n"
     ]
    },
    {
     "name": "stderr",
     "output_type": "stream",
     "text": [
      "100%|██████████| 235/235 [00:09<00:00, 24.73it/s]\n",
      "100%|██████████| 235/235 [00:09<00:00, 24.86it/s]\n"
     ]
    },
    {
     "name": "stdout",
     "output_type": "stream",
     "text": [
      "epoch: 4 CAM_loss:0.042(L_cam: 0.678, L_ce: 0.042) train_accr: 99.130% test_accr:98.260%, train_f1: 0.991 test_f1: 0.983\n"
     ]
    },
    {
     "name": "stderr",
     "output_type": "stream",
     "text": [
      "100%|██████████| 235/235 [00:09<00:00, 24.26it/s]\n",
      "100%|██████████| 235/235 [00:09<00:00, 24.78it/s]\n"
     ]
    },
    {
     "name": "stdout",
     "output_type": "stream",
     "text": [
      "epoch: 6 CAM_loss:0.026(L_cam: 0.640, L_ce: 0.026) train_accr: 99.023% test_accr:98.290%, train_f1: 0.990 test_f1: 0.983\n"
     ]
    },
    {
     "name": "stderr",
     "output_type": "stream",
     "text": [
      "100%|██████████| 235/235 [00:09<00:00, 24.87it/s]\n",
      "100%|██████████| 235/235 [00:09<00:00, 24.78it/s]\n"
     ]
    },
    {
     "name": "stdout",
     "output_type": "stream",
     "text": [
      "epoch: 8 CAM_loss:0.022(L_cam: 0.602, L_ce: 0.022) train_accr: 99.495% test_accr:98.570%, train_f1: 0.995 test_f1: 0.986\n"
     ]
    },
    {
     "name": "stderr",
     "output_type": "stream",
     "text": [
      "100%|██████████| 235/235 [00:09<00:00, 24.28it/s]\n",
      "100%|██████████| 235/235 [00:09<00:00, 24.40it/s]\n"
     ]
    },
    {
     "name": "stdout",
     "output_type": "stream",
     "text": [
      "epoch: 10 CAM_loss:0.011(L_cam: 0.592, L_ce: 0.011) train_accr: 99.922% test_accr:98.840%, train_f1: 0.999 test_f1: 0.988\n"
     ]
    },
    {
     "name": "stderr",
     "output_type": "stream",
     "text": [
      "100%|██████████| 235/235 [00:09<00:00, 24.76it/s]\n",
      "100%|██████████| 235/235 [00:09<00:00, 24.62it/s]\n"
     ]
    },
    {
     "name": "stdout",
     "output_type": "stream",
     "text": [
      "epoch: 12 CAM_loss:0.014(L_cam: 0.565, L_ce: 0.014) train_accr: 99.897% test_accr:98.850%, train_f1: 0.999 test_f1: 0.989\n"
     ]
    },
    {
     "name": "stderr",
     "output_type": "stream",
     "text": [
      "100%|██████████| 235/235 [00:09<00:00, 24.68it/s]\n",
      "100%|██████████| 235/235 [00:09<00:00, 24.09it/s]\n"
     ]
    },
    {
     "name": "stdout",
     "output_type": "stream",
     "text": [
      "epoch: 14 CAM_loss:0.007(L_cam: 0.562, L_ce: 0.007) train_accr: 99.977% test_accr:98.740%, train_f1: 1.000 test_f1: 0.987\n"
     ]
    },
    {
     "name": "stderr",
     "output_type": "stream",
     "text": [
      "100%|██████████| 235/235 [00:09<00:00, 24.81it/s]\n",
      "100%|██████████| 235/235 [00:09<00:00, 24.61it/s]\n"
     ]
    },
    {
     "name": "stdout",
     "output_type": "stream",
     "text": [
      "epoch: 16 CAM_loss:0.120(L_cam: 0.037, L_ce: 0.010) train_accr: 99.803% test_accr:98.460%, train_f1: 0.998 test_f1: 0.984\n"
     ]
    },
    {
     "name": "stderr",
     "output_type": "stream",
     "text": [
      "100%|██████████| 235/235 [00:09<00:00, 24.57it/s]\n",
      "100%|██████████| 235/235 [00:09<00:00, 24.73it/s]\n"
     ]
    },
    {
     "name": "stdout",
     "output_type": "stream",
     "text": [
      "epoch: 18 CAM_loss:0.066(L_cam: 0.020, L_ce: 0.007) train_accr: 99.932% test_accr:98.720%, train_f1: 0.999 test_f1: 0.986\n"
     ]
    },
    {
     "name": "stderr",
     "output_type": "stream",
     "text": [
      "100%|██████████| 235/235 [00:09<00:00, 24.21it/s]\n",
      "100%|██████████| 235/235 [00:09<00:00, 24.64it/s]\n"
     ]
    },
    {
     "name": "stdout",
     "output_type": "stream",
     "text": [
      "epoch: 20 CAM_loss:0.042(L_cam: 0.013, L_ce: 0.003) train_accr: 99.982% test_accr:98.620%, train_f1: 1.000 test_f1: 0.986\n"
     ]
    },
    {
     "name": "stderr",
     "output_type": "stream",
     "text": [
      "100%|██████████| 235/235 [00:09<00:00, 24.72it/s]\n",
      "100%|██████████| 235/235 [00:09<00:00, 24.69it/s]\n"
     ]
    },
    {
     "name": "stdout",
     "output_type": "stream",
     "text": [
      "epoch: 22 CAM_loss:0.060(L_cam: 0.015, L_ce: 0.015) train_accr: 99.877% test_accr:98.530%, train_f1: 0.999 test_f1: 0.985\n"
     ]
    },
    {
     "name": "stderr",
     "output_type": "stream",
     "text": [
      "100%|██████████| 235/235 [00:09<00:00, 24.65it/s]\n",
      "100%|██████████| 235/235 [00:09<00:00, 24.35it/s]\n"
     ]
    },
    {
     "name": "stdout",
     "output_type": "stream",
     "text": [
      "epoch: 24 CAM_loss:0.037(L_cam: 0.011, L_ce: 0.004) train_accr: 99.973% test_accr:98.790%, train_f1: 1.000 test_f1: 0.988\n"
     ]
    },
    {
     "name": "stderr",
     "output_type": "stream",
     "text": [
      "100%|██████████| 235/235 [00:09<00:00, 24.57it/s]\n",
      "100%|██████████| 235/235 [00:09<00:00, 24.59it/s]\n"
     ]
    },
    {
     "name": "stdout",
     "output_type": "stream",
     "text": [
      "epoch: 26 CAM_loss:0.030(L_cam: 0.009, L_ce: 0.002) train_accr: 99.978% test_accr:98.670%, train_f1: 1.000 test_f1: 0.987\n"
     ]
    },
    {
     "name": "stderr",
     "output_type": "stream",
     "text": [
      "100%|██████████| 235/235 [00:09<00:00, 24.58it/s]\n",
      "100%|██████████| 235/235 [00:09<00:00, 24.09it/s]\n"
     ]
    },
    {
     "name": "stdout",
     "output_type": "stream",
     "text": [
      "epoch: 28 CAM_loss:0.042(L_cam: 0.011, L_ce: 0.009) train_accr: 99.895% test_accr:98.690%, train_f1: 0.999 test_f1: 0.983\n"
     ]
    },
    {
     "name": "stderr",
     "output_type": "stream",
     "text": [
      "100%|██████████| 235/235 [00:09<00:00, 24.74it/s]\n",
      "100%|██████████| 235/235 [00:09<00:00, 24.45it/s]\n"
     ]
    },
    {
     "name": "stdout",
     "output_type": "stream",
     "text": [
      "epoch: 30 CAM_loss:0.026(L_cam: 0.008, L_ce: 0.001) train_accr: 99.995% test_accr:98.830%, train_f1: 1.000 test_f1: 0.988\n",
      "Done\n"
     ]
    }
   ],
   "source": [
    "torch.autograd.set_detect_anomaly(True)\n",
    "model = TestModel(10).to(device)\n",
    "optm_theta = optim.Adam(model.conv.parameters(),lr=1e-3)\n",
    "optm_w = optim.Adam(model.fc.parameters(), lr=1e-3)\n",
    "# theta_params = [param for name, param in model.backbone.named_parameters() if 'fc' not in name]\n",
    "# optm_theta = optim.SGD(theta_params,lr=1e-2)\n",
    "# optm_w = optim.SGD(model.backbone.fc.parameters(), lr=1e-2)\n",
    "l_cam = nn.L1Loss()\n",
    "l_ce = nn.CrossEntropyLoss()\n",
    "model.train()\n",
    "EPOCHS = 30\n",
    "alpha = 0\n",
    "for epoch in range(1, EPOCHS+1):\n",
    "    loss_sum = 0\n",
    "    L_cam_sum = 0\n",
    "    L_ce_sum = 0\n",
    "    for batch_in, batch_out in tqdm(train_iter):\n",
    "        inputs = batch_in.to(device)\n",
    "        labels = batch_out.to(device)\n",
    "        y_pred, feature_map = model.forward(inputs)\n",
    "\n",
    "        if epoch >= 15:\n",
    "            alpha = 3\n",
    "        \n",
    "        # CAAM, CAM\n",
    "        CAAM = torch.sum(feature_map, dim=1) # B H W\n",
    "        CAM = madeCAM(feature_map, labels, model.fc.weight.data.T) # B H W\n",
    "        # CAM = madeCAM(feature_map, labels, model.backbone.fc.weight.data.T) # B H W\n",
    "\n",
    "        CAAM_normalize = minMaxNormalize(CAAM)\n",
    "        CAM_noramlize = minMaxNormalize(CAM)\n",
    "        \n",
    "        L_cam_loss = l_cam(CAAM_normalize, CAM_noramlize) \n",
    "        L_ce_loss = l_ce(y_pred, labels)\n",
    "        CAM_loss = alpha*L_cam_loss + L_ce_loss\n",
    "\n",
    "        \n",
    "        optm_theta.zero_grad()\n",
    "        optm_w.zero_grad()\n",
    "        CAM_loss.backward()\n",
    "        optm_theta.step()\n",
    "        optm_w.step()\n",
    "\n",
    "        loss_sum += CAM_loss\n",
    "        L_cam_sum += L_cam_loss\n",
    "        L_ce_sum += L_ce_loss\n",
    "\n",
    "    loss_avg = loss_sum/len(train_iter)\n",
    "    cam_avg = L_cam_sum/len(train_iter)\n",
    "    ce_avg = L_ce_sum/len(train_iter)\n",
    "\n",
    "    if (epoch%2) == 0:\n",
    "        train_accr, f1_train = func_eval(model,train_iter,device)\n",
    "        test_accr, f1_test = func_eval(model,test_iter,device)\n",
    "        print (f\"epoch: {epoch} CAM_loss:{loss_avg:.3f}(L_cam: {cam_avg:.3f}, L_ce: {ce_avg:.3f}) train_accr: {train_accr:.3%} test_accr:{test_accr:.3%}, train_f1: {f1_train:.3f} test_f1: {f1_test:.3f}\")\n",
    "print (\"Done\")        "
   ]
  },
  {
   "cell_type": "code",
   "execution_count": 13,
   "metadata": {},
   "outputs": [
    {
     "data": {
      "image/png": "[encoded data removed]",
      "text/plain": [
       "<Figure size 1000x1000 with 25 Axes>"
      ]
     },
     "metadata": {},
     "output_type": "display_data"
    },
    {
     "name": "stdout",
     "output_type": "stream",
     "text": [
      "Done\n"
     ]
    }
   ],
   "source": [
    "n_sample = 25\n",
    "sample_indices = np.random.choice(len(mnist_test.targets), n_sample, replace=False)\n",
    "test_x = mnist_test.data[sample_indices]\n",
    "test_y = mnist_test.targets[sample_indices]\n",
    "test_x.unsqueeze_(dim=1)\n",
    "with torch.no_grad():\n",
    "    y_pred, _ = model(test_x.type(torch.float).to(device)/255.)\n",
    "y_pred = y_pred.argmax(axis=1)\n",
    "plt.figure(figsize=(10,10))\n",
    "for idx in range(n_sample):\n",
    "    plt.subplot(5, 5, idx+1)\n",
    "    plt.imshow(test_x[idx].squeeze(), cmap='gray')\n",
    "    plt.axis('off')\n",
    "    plt.title(\"Pred:%d, Label:%d\"%(y_pred[idx],test_y[idx]))\n",
    "plt.show()    \n",
    "print (\"Done\")"
   ]
  },
  {
   "cell_type": "code",
   "execution_count": null,
   "metadata": {},
   "outputs": [],
   "source": []
  }
 ],
 "metadata": {
  "kernelspec": {
   "display_name": "Python 3.8.5 ('project-vt2EwfcF': pipenv)",
   "language": "python",
   "name": "python3"
  },
  "language_info": {
   "codemirror_mode": {
    "name": "ipython",
    "version": 3
   },
   "file_extension": ".py",
   "mimetype": "text/x-python",
   "name": "python",
   "nbconvert_exporter": "python",
   "pygments_lexer": "ipython3",
   "version": "3.8.5"
  },
  "orig_nbformat": 4,
  "vscode": {
   "interpreter": {
    "hash": "71bdc61298bf80c1e71c8e2bae6f624e81956b239b32c5dbaee30c7e1f8f8340"
   }
  }
 },
 "nbformat": 4,
 "nbformat_minor": 2
}
